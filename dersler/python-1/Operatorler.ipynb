{
 "cells": [
  {
   "cell_type": "markdown",
   "metadata": {},
   "source": [
    "Matematikten verdiğimiz örneklerle devam etmek istiyorum.  \n",
    "Operatörleri düşünürken matematikteki dört işlem kavramına benzetmekte fayda var.  \n"
   ]
  },
  {
   "cell_type": "markdown",
   "metadata": {},
   "source": [
    "Artı (+) Eksi (-) Bölü (/) Çarpı (x) gibi basit işlemleri matekmatikte olduğu gibi programlama dillerimizdede kullanabiliyoruz.  "
   ]
  },
  {
   "cell_type": "code",
   "execution_count": 13,
   "metadata": {},
   "outputs": [
    {
     "name": "stdout",
     "output_type": "stream",
     "text": [
      "8\n",
      "2.0\n",
      "10\n",
      "1\n"
     ]
    }
   ],
   "source": [
    "# Dört işlem operatörlerimi kullanarak\n",
    "# değerlerimle işlemler yapıp sonucunu birer değişkene eşitliyorum\n",
    "\n",
    "toplam=3+5\n",
    "bolunmus = 10/5\n",
    "carpilmis=2*5\n",
    "cikarilmis =5-4\n",
    "\n",
    "print(toplam)\n",
    "print(bolunmus)\n",
    "print(carpilmis)\n",
    "print(cikarilmis)"
   ]
  },
  {
   "cell_type": "markdown",
   "metadata": {},
   "source": [
    "### Type (veri türü)"
   ]
  },
  {
   "cell_type": "markdown",
   "metadata": {},
   "source": [
    "Type fonksiyonunu kullanrak bir değişkenimizin içindeki değerin veri türünü bulabiliriz. Operatörlerimizin sonucunda çıkan değerlerin veri türlerinin ne olduğuyla ilgileneceğimiz için bunu görmek istiyoruz"
   ]
  },
  {
   "cell_type": "code",
   "execution_count": 18,
   "metadata": {},
   "outputs": [
    {
     "name": "stdout",
     "output_type": "stream",
     "text": [
      "<class 'int'>\n"
     ]
    }
   ],
   "source": [
    "# Sayimizin int, yani sayı olduğunu görüyoruz\n",
    "x=10\n",
    "print(type(sayi))"
   ]
  },
  {
   "cell_type": "markdown",
   "metadata": {},
   "source": [
    "## Operatörler"
   ]
  },
  {
   "cell_type": "markdown",
   "metadata": {},
   "source": [
    "Matematikteki gibi sayılarla operatörlerimizi kısıtlamak zorunda değiliz. Önceki bölümde öğrendiğimiz 3 veri türünü kullanmayı deneyebiliriz."
   ]
  },
  {
   "cell_type": "markdown",
   "metadata": {},
   "source": [
    "### String"
   ]
  },
  {
   "cell_type": "markdown",
   "metadata": {},
   "source": [
    "#### Artı (+)"
   ]
  },
  {
   "cell_type": "code",
   "execution_count": 24,
   "metadata": {},
   "outputs": [
    {
     "name": "stdout",
     "output_type": "stream",
     "text": [
      "Merhaba dostum\n",
      "<class 'str'>\n"
     ]
    }
   ],
   "source": [
    "# İki String arasında Artı (+) operatörünü kullanırsam sonuc ne olacak?\n",
    "birlesmis_string = \"Merhaba \" + \"dostum\"\n",
    "print(birlesmis_string)\n",
    "print(type(birlesmis_string))"
   ]
  },
  {
   "cell_type": "markdown",
   "metadata": {},
   "source": [
    "Gördüğümüz gibi eğer artı öperatörünü iki stringle kullanırsak sonuc iki stringin yan yana getirilmiş yeni bir string olduğunu görüyoruz."
   ]
  },
  {
   "cell_type": "markdown",
   "metadata": {},
   "source": [
    "#### Eksi (-)"
   ]
  },
  {
   "cell_type": "code",
   "execution_count": 39,
   "metadata": {},
   "outputs": [
    {
     "ename": "TypeError",
     "evalue": "unsupported operand type(s) for -: 'str' and 'str'",
     "output_type": "error",
     "traceback": [
      "\u001b[0;31m---------------------------------------------------------------------------\u001b[0m",
      "\u001b[0;31mTypeError\u001b[0m                                 Traceback (most recent call last)",
      "\u001b[0;32m<ipython-input-39-c16567f8e92b>\u001b[0m in \u001b[0;36m<module>\u001b[0;34m\u001b[0m\n\u001b[1;32m      1\u001b[0m \u001b[0;31m# İki String arasında Eksi (-) operatörünü kullanırsam sonuc ne olacak?\u001b[0m\u001b[0;34m\u001b[0m\u001b[0;34m\u001b[0m\u001b[0;34m\u001b[0m\u001b[0m\n\u001b[1;32m      2\u001b[0m \u001b[0;34m\u001b[0m\u001b[0m\n\u001b[0;32m----> 3\u001b[0;31m \u001b[0mcikarilmis_string\u001b[0m\u001b[0;34m=\u001b[0m\u001b[0;34m\"ben\"\u001b[0m\u001b[0;34m-\u001b[0m\u001b[0;34m\"cikarildim\"\u001b[0m\u001b[0;34m\u001b[0m\u001b[0;34m\u001b[0m\u001b[0m\n\u001b[0m\u001b[1;32m      4\u001b[0m \u001b[0mprint\u001b[0m\u001b[0;34m(\u001b[0m\u001b[0mcikarilmis_string\u001b[0m\u001b[0;34m)\u001b[0m\u001b[0;34m\u001b[0m\u001b[0;34m\u001b[0m\u001b[0m\n",
      "\u001b[0;31mTypeError\u001b[0m: unsupported operand type(s) for -: 'str' and 'str'"
     ]
    }
   ],
   "source": [
    "# İki String arasında Eksi (-) operatörünü kullanırsam sonuc ne olacak?\n",
    "\n",
    "cikarilmis_string=\"ben\"-\"cikarildim\"\n",
    "print(cikarilmis_string)"
   ]
  },
  {
   "cell_type": "markdown",
   "metadata": {},
   "source": [
    "Bu örnekte gördüğümüz gibi, her veri türüyle bütün operatörleri kullanamıyoruz. Yaptığımız işkemin veri türü kapsamında mantıklı olup olmadığını düşünmemiz lazım. Bu örnekte iki stringi toplama operatörüyle kullanılmaya musayit olup eksiyle kullanılmadığını gördük. Diğer operatör örneklerini de stringlerle denemenizi tavsiye ederim."
   ]
  },
  {
   "cell_type": "markdown",
   "metadata": {},
   "source": [
    "### Boolean"
   ]
  },
  {
   "cell_type": "markdown",
   "metadata": {},
   "source": [
    "#### Artı (+)"
   ]
  },
  {
   "cell_type": "code",
   "execution_count": 38,
   "metadata": {},
   "outputs": [
    {
     "name": "stdout",
     "output_type": "stream",
     "text": [
      "1 <class 'int'>\n",
      "2 <class 'int'>\n"
     ]
    }
   ],
   "source": [
    "# İki Boolean arasında Artı (+) operatörünü kullanırsam sonuc ne olacak?\n",
    "\n",
    "bool_toplam = True + False\n",
    "bool_toplam2 = True + True\n",
    "\n",
    "print(bool_toplam,type(bool_toplam))\n",
    "print(bool_toplam2,type(bool_toplam2))"
   ]
  },
  {
   "cell_type": "markdown",
   "metadata": {},
   "source": [
    "Gördüğümüz gibi enteresan bir sonuç alıyoruz. İki boolean değeri kullanarak toplama işlemi yaparsak sonuc bir sayı oluyor.  \n",
    "Bunun nedeni boolean değerler toplama vb operatorlerde kullanıldığı zaman 0 ve 1 sayılarına çevirilmektedir."
   ]
  },
  {
   "cell_type": "markdown",
   "metadata": {},
   "source": [
    "#### Eksi (-)"
   ]
  },
  {
   "cell_type": "code",
   "execution_count": 36,
   "metadata": {},
   "outputs": [
    {
     "name": "stdout",
     "output_type": "stream",
     "text": [
      "-2 <class 'int'>\n",
      "0 <class 'int'>\n"
     ]
    }
   ],
   "source": [
    "# İki Boolean arasında Eksi (-) operatörünü kullanırsam sonuc ne olacak?\n",
    "\n",
    "bool_cikartilmis = False - True - True # 0 - 1 - 1\n",
    "bool_cikartilmis2 = True - True        # 1 - 1\n",
    "\n",
    "print(bool_cikartilmis,type(bool_cikartilmis))\n",
    "print(bool_cikartilmis2,type(bool_cikartilmis2))"
   ]
  },
  {
   "cell_type": "markdown",
   "metadata": {},
   "source": [
    "### Büyüktür (>) Küçüktür (<)"
   ]
  },
  {
   "cell_type": "code",
   "execution_count": 40,
   "metadata": {},
   "outputs": [
    {
     "name": "stdout",
     "output_type": "stream",
     "text": [
      "True\n",
      "<class 'bool'>\n"
     ]
    }
   ],
   "source": [
    "# İki Sayı arasında Kücüktür (<) operatörünü kullanırsam sonuc ne olacak?\n",
    "\n",
    "karsilastirma = 3<5\n",
    "print(karsilastirma)\n",
    "print(type(karsilastirma))"
   ]
  },
  {
   "cell_type": "code",
   "execution_count": 42,
   "metadata": {},
   "outputs": [
    {
     "name": "stdout",
     "output_type": "stream",
     "text": [
      "False\n",
      "<class 'bool'>\n"
     ]
    }
   ],
   "source": [
    "# İki Sayı arasında Büyüktür (>) operatörünü kullanırsam sonuc ne olacak?\n",
    "\n",
    "karsilastirma = 3>5\n",
    "print(karsilastirma)\n",
    "print(type(karsilastirma))"
   ]
  },
  {
   "cell_type": "code",
   "execution_count": 44,
   "metadata": {},
   "outputs": [
    {
     "name": "stdout",
     "output_type": "stream",
     "text": [
      "False\n",
      "<class 'bool'>\n"
     ]
    }
   ],
   "source": [
    "# İki Boolean arasında Büyüktür (>) operatörünü kullanırsam sonuc ne olacak?\n",
    "\n",
    "karsilastirma = False>True\n",
    "print(karsilastirma)\n",
    "print(type(karsilastirma))"
   ]
  },
  {
   "cell_type": "markdown",
   "metadata": {},
   "source": [
    "İki boolean karşılaştırdığım zaman boolean değerleri true 1 false 0 olcak şekilde hesap yapılmaktadır."
   ]
  },
  {
   "cell_type": "markdown",
   "metadata": {},
   "source": [
    "### Eşit midir? (==)"
   ]
  },
  {
   "cell_type": "markdown",
   "metadata": {},
   "source": [
    "iki değerin birbirine eşit oldup olmadığını görmek için iki eşittir operatörünü kullanıyoruz.  \n",
    "Bu operatör sonuç olarak iki değer eşitse true değilse false verecektir."
   ]
  },
  {
   "cell_type": "code",
   "execution_count": 47,
   "metadata": {},
   "outputs": [
    {
     "name": "stdout",
     "output_type": "stream",
     "text": [
      "True\n",
      "<class 'bool'>\n"
     ]
    }
   ],
   "source": [
    "# İki String arasında Eşit midir (==) operatörünü kullanırsam sonuc ne olacak?\n",
    "esit_midir=\"esitmidir\"==(\"esit\"+\"midir\")\n",
    "print(esit_midir)\n",
    "print(type(esit_midir))"
   ]
  },
  {
   "cell_type": "markdown",
   "metadata": {},
   "source": [
    "Bu operatörü tek eşittir (=) operatörüyle karıştırmamak önemlidir.    \n",
    "\n",
    "İki eşittir (==) kullandığımız taktirde bir değeri bir değişkene eşitlemek yerine iki değerin birbirine eşit olup olmadığını öğrenmek istiyoruz."
   ]
  }
 ],
 "metadata": {
  "kernelspec": {
   "display_name": "Python 3",
   "language": "python",
   "name": "python3"
  },
  "language_info": {
   "codemirror_mode": {
    "name": "ipython",
    "version": 3
   },
   "file_extension": ".py",
   "mimetype": "text/x-python",
   "name": "python",
   "nbconvert_exporter": "python",
   "pygments_lexer": "ipython3",
   "version": "3.7.4"
  }
 },
 "nbformat": 4,
 "nbformat_minor": 2
}
