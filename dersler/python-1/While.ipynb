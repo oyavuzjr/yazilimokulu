{
 "cells": [
  {
   "cell_type": "markdown",
   "metadata": {},
   "source": [
    "**While** ın tam Türkçe karşılığı olmasa da aşağı yukarı \"olurken\" olarak anlamlandırılabilir.  \n",
    "Bu isim de gördüğü görev için de uygundur, çünkğ while ın işlevi belirlediğiniz bir şart Doğru veya True iken bir takım kodu sürekli olarak çalıştırmaktır. "
   ]
  },
  {
   "cell_type": "markdown",
   "metadata": {},
   "source": [
    "While ın yapısı if e çok benzemektedir, kritik olan farkı while ın şart yanış olana kadar sürekli çalıştırılmasıdır."
   ]
  },
  {
   "cell_type": "code",
   "execution_count": 8,
   "metadata": {},
   "outputs": [
    {
     "name": "stdout",
     "output_type": "stream",
     "text": [
      "1\n"
     ]
    }
   ],
   "source": [
    "sayi = 1\n",
    "\n",
    "# Sayı 5 den küçük ise print et.\n",
    "if(sayi<5):\n",
    "    print(sayi)\n"
   ]
  },
  {
   "cell_type": "code",
   "execution_count": 9,
   "metadata": {},
   "outputs": [
    {
     "name": "stdout",
     "output_type": "stream",
     "text": [
      "1\n",
      "2\n",
      "3\n",
      "4\n"
     ]
    }
   ],
   "source": [
    "# Sayı 5 den küçük olduğu sürece sayıyı print edip değerini arttır.\n",
    "while(sayi<5):\n",
    "    print(sayi)\n",
    "    sayi+=1"
   ]
  },
  {
   "cell_type": "markdown",
   "metadata": {},
   "source": [
    "While Looplarını ve if gibi diğer kontorl akışı araçlarımızı sadece sayılarla kullanmak zorunda değiliz.  \n",
    "Size String kullanan bir örnek de sundum."
   ]
  },
  {
   "cell_type": "code",
   "execution_count": 2,
   "metadata": {},
   "outputs": [
    {
     "name": "stdout",
     "output_type": "stream",
     "text": [
      "\n",
      "@\n",
      "@@\n",
      "@@@\n",
      "@@@@\n"
     ]
    }
   ],
   "source": [
    "hedef=\"@@@@@\"\n",
    "baslangic=\"\"\n",
    "\n",
    "#Eğer hedef başlangıç a eşit değilse\n",
    "while(hedef!=baslangic):\n",
    "    # Başlangıc ı print et\n",
    "    print(baslangic)\n",
    "    # Başlangıç in sonuna bir tane @ ekle.\n",
    "    baslangic+=\"@\"\n"
   ]
  },
  {
   "cell_type": "markdown",
   "metadata": {},
   "source": [
    "Gördüğümüz gibi başlangıç olarak adlandırdığımız değişkenin değeri hedef e eşit olana kadar while ın içindeki kod u çalıştırıyoruz. "
   ]
  },
  {
   "cell_type": "markdown",
   "metadata": {},
   "source": [
    "**<div style=\"color:red;\">Önemli bir nokta! </div>**\n",
    "Eğer while ın içine yazdığınız kod while ın şartını sonunda False a çevirmiyorsa while loop unuz sonsuza kadar çalışır. Bu da programınızın çokmesine sebep olur. Bu yüzden dolayı while a koyduğunuz şartın en sonunda False a dönüşeceğinden emin olun."
   ]
  }
 ],
 "metadata": {
  "kernelspec": {
   "display_name": "Python 3",
   "language": "python",
   "name": "python3"
  },
  "language_info": {
   "codemirror_mode": {
    "name": "ipython",
    "version": 3
   },
   "file_extension": ".py",
   "mimetype": "text/x-python",
   "name": "python",
   "nbconvert_exporter": "python",
   "pygments_lexer": "ipython3",
   "version": "3.7.4"
  }
 },
 "nbformat": 4,
 "nbformat_minor": 2
}
