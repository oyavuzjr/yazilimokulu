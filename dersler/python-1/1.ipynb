{
 "cells": [
  {
   "cell_type": "markdown",
   "metadata": {},
   "source": [
    "## Yorum Yazmak"
   ]
  },
  {
   "cell_type": "markdown",
   "metadata": {},
   "source": [
    "*Başlamadan önce küçük bir bilgi vermek istiyorum.*  \n",
    "Kod yazarken yorum ekleyebilme imkanımız vardır. Bu özellik projelerimizi uzun süre ara verdikten sonra geri geldiğimizde kodu yazdığımız zamanki düşünce tarzımızı hatırlayabilmek için yazdığımız notlardır."
   ]
  },
  {
   "cell_type": "code",
   "execution_count": 3,
   "metadata": {},
   "outputs": [],
   "source": [
    "# \"Hashtag\" veya \"pound\" dediğimiz işareti\n",
    "# istediğiniz satırın başına ekleyerek yorum yazabilirsiniz."
   ]
  },
  {
   "cell_type": "markdown",
   "metadata": {},
   "source": [
    "## Değişkenler  "
   ]
  },
  {
   "cell_type": "markdown",
   "metadata": {},
   "source": [
    "Size bugün **değişkenler** konusunu anlatmak için ilköğretim yıllarınızda öğrenmiş olabileceğiniz bazı matematık konseptlerinden örnek vermek istiyorum."
   ]
  },
  {
   "cell_type": "code",
   "execution_count": 4,
   "metadata": {},
   "outputs": [],
   "source": [
    "x=5"
   ]
  },
  {
   "cell_type": "markdown",
   "metadata": {},
   "source": [
    "Değişkenlerden bahsederken verebileceğiniz en basit örnektir. Peki değişkenler nedir?"
   ]
  },
  {
   "cell_type": "markdown",
   "metadata": {},
   "source": [
    "> türlü sayı değerleri alabilen, değişebilen nicelik."
   ]
  },
  {
   "cell_type": "markdown",
   "metadata": {},
   "source": [
    "Bu değişebilen nitelik diye adlandırdığımız konsepti içine bir değer koyabileceğimiz **boş bir kutu** olarak düşünebiliriz. Matematikte değişkenler kullanırken sadece sayılardan bahsediyor olsak da yazılım dünyasında sayılarla beraber birçok farklı veri türlerinı değişkenlerimizle kullanabilmekteyiz"
   ]
  },
  {
   "cell_type": "code",
   "execution_count": 8,
   "metadata": {},
   "outputs": [],
   "source": [
    "x=10"
   ]
  },
  {
   "cell_type": "markdown",
   "metadata": {},
   "source": [
    "= işaretinin sol tarafındaki **değişkendir**, sağ tarafındaki ise **değeridir**.  "
   ]
  },
  {
   "cell_type": "markdown",
   "metadata": {},
   "source": [
    "#### Değişken"
   ]
  },
  {
   "cell_type": "markdown",
   "metadata": {},
   "source": [
    "Değişkenlerimizin matematikte olduğu gibi sadece bir harf kullanarak tanımlamak zorunda değiliz.  \n",
    "Programlama dillerinde değişkenlere istediğimiz isimi verebiliriz.  "
   ]
  },
  {
   "cell_type": "code",
   "execution_count": 9,
   "metadata": {},
   "outputs": [],
   "source": [
    "# lahmacun isimli bir değişken yaratıyorum.\n",
    "# lahmacun değişkenine 15 değerini veriyorum. \n",
    "lahmacun=15"
   ]
  },
  {
   "cell_type": "markdown",
   "metadata": {},
   "source": [
    "Verebileceğiniz değişken isimleriyle ilgili bazı kısıtlamalar vardır.\n",
    "- Boşluk kullanamazsınız.\n",
    "- \"_\" dişındaki özel karakterleri kullanamazsiniz.\n",
    "- Sayı ile başlayan bir isim kullanamazsınız\n"
   ]
  },
  {
   "cell_type": "markdown",
   "metadata": {},
   "source": [
    "#### Değer"
   ]
  },
  {
   "cell_type": "markdown",
   "metadata": {},
   "source": [
    "Bu bölümün sonlarına doğru veri türlerini daha detaylı inceleyeceğiz ama programlama dillerinde değerlerimizi matematikte olduğu gibi sayılara kısıtlamak zorunda değiliz. Yazı ve sayılar gibi farklı veri türü örnekleri vardır, bu **değerler** değişkenlerimize eşitlenir ve o boş kutunun içine bir değer koymus olursunuz. Daha sonra o değere ihtiyacınız olduğu zaman değişkenin, yani o kutunun ismini kullanabilirsiniz. Adı üstünde bu bir değişken olduğu için, değişkenlerimize sonradan farklı değerler de verebiliriz."
   ]
  },
  {
   "cell_type": "code",
   "execution_count": 11,
   "metadata": {},
   "outputs": [],
   "source": [
    "# İlk lahmacun diye bir değişken oluşturuyorum.\n",
    "lahmacun=12\n",
    "# Sonra lahmacun değişkeninin değerini 20 ye değiştiriyorum.\n",
    "lahmacun=20"
   ]
  },
  {
   "cell_type": "markdown",
   "metadata": {},
   "source": [
    "## Print"
   ]
  },
  {
   "cell_type": "markdown",
   "metadata": {},
   "source": [
    "Programlarımızın yapabileceği en basit şeyi düşünürsek çoğu insanın aklına gelecek olan şey ekrana bir şey yazmaktır."
   ]
  },
  {
   "cell_type": "markdown",
   "metadata": {},
   "source": [
    "print adında bir Fonksiyon *(Function)* vardır.  \n",
    "Yazılım bağlamında Fonksiyonların ne demek olduğunun teknik detarlarına ileriki bölümlerde değineceğiz, fakat şimdilik print konseptini bilgisayar ekranınıza bir takım yazı yansıtmak için kullanacağınız bir anahtar kelime olarak düşünmenizi isteyeceğim."
   ]
  },
  {
   "cell_type": "code",
   "execution_count": 7,
   "metadata": {},
   "outputs": [
    {
     "name": "stdout",
     "output_type": "stream",
     "text": [
      "10\n"
     ]
    }
   ],
   "source": [
    "x=10\n",
    "print(x)"
   ]
  },
  {
   "cell_type": "markdown",
   "metadata": {},
   "source": [
    "Örnekte gördüğünüz gibi, print fonksiyonu bir değişken veya değeri ekrana yansıtmamızı sağlar."
   ]
  },
  {
   "cell_type": "markdown",
   "metadata": {},
   "source": [
    "## Veri Türleri"
   ]
  },
  {
   "cell_type": "markdown",
   "metadata": {},
   "source": [
    "Önceden bahsettiğimiz gibi, değerlerimizin farklı türleri vardır.  \n",
    "Bunlar,  \n",
    "\n",
    "- Number  (Sayı)\n",
    "- String  (Yazı)\n",
    "- Boolean (Doğru/Yanlış )\n",
    "\n",
    "değerleri olarak sınıflandırılabilir.  \n",
    "Bu üçünden çok daha fazla veri türleri mevcuttur, ama bunlar en basit ve anlaması kritik veri türleridir.  \n",
    "Diğer veri türleri de çoğu zaman bu üç veri türünü baz alırlar."
   ]
  },
  {
   "cell_type": "markdown",
   "metadata": {},
   "source": [
    "#### Number"
   ]
  },
  {
   "cell_type": "code",
   "execution_count": 12,
   "metadata": {},
   "outputs": [],
   "source": [
    "sayı=10"
   ]
  },
  {
   "cell_type": "markdown",
   "metadata": {},
   "source": [
    "Şimdiye kadar hep gördüğümüz veri türüdür. İşlem yaparken kullanabildiğimiz Matematiksel bir sayıdır."
   ]
  },
  {
   "cell_type": "markdown",
   "metadata": {},
   "source": [
    "#### String"
   ]
  },
  {
   "cell_type": "code",
   "execution_count": 13,
   "metadata": {},
   "outputs": [],
   "source": [
    "yazi=\"stringlere istediğim yazıyı yazarım\""
   ]
  },
  {
   "cell_type": "markdown",
   "metadata": {},
   "source": [
    "Stringler bir veya daha fazla harflerin beraber getirilmesiyle oluşan yazıları temsil eden bir veri türüdür.  \n",
    "Aynı zamanda böş bir sting yaratmak mumkundur."
   ]
  },
  {
   "cell_type": "code",
   "execution_count": 14,
   "metadata": {},
   "outputs": [],
   "source": [
    "# Boş bir string\n",
    "yazi=\"\""
   ]
  },
  {
   "cell_type": "markdown",
   "metadata": {},
   "source": [
    "#### Boolean"
   ]
  },
  {
   "cell_type": "code",
   "execution_count": 15,
   "metadata": {},
   "outputs": [],
   "source": [
    "dogru=True\n",
    "yanlis=False"
   ]
  },
  {
   "cell_type": "markdown",
   "metadata": {},
   "source": [
    "String ve number veri türlerinin bir sürü olası örnek değeri varken boolean veri türünün sadece iki mümkün değeri vardır,  \n",
    "- True (doğru)\n",
    "- False (yanlış)  \n",
    "\n",
    "Bu değerlere programımızın içindeki mantığı kurgularken ihtiyacımız olacaktır. Tıpkı bir ışığın açık veya kapalı olması gibi, boolean veri türlerine eşitlediğimiz değişkenlerimizi açık veya kapalı, doğru veya yanlış, yada 0 veya 1 olarak düşünebilirsiniz.  \n",
    "İlk etapta bu veri türünün marifetini çok net anlamazsanız merak etmeyin, ileriki bölümlerde güzel örnekleriyle beraber göreceğiz."
   ]
  }
 ],
 "metadata": {
  "kernelspec": {
   "display_name": "Python 3",
   "language": "python",
   "name": "python3"
  },
  "language_info": {
   "codemirror_mode": {
    "name": "ipython",
    "version": 3
   },
   "file_extension": ".py",
   "mimetype": "text/x-python",
   "name": "python",
   "nbconvert_exporter": "python",
   "pygments_lexer": "ipython3",
   "version": "3.7.4"
  }
 },
 "nbformat": 4,
 "nbformat_minor": 2
}
