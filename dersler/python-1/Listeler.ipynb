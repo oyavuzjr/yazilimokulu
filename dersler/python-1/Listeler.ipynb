{
 "cells": [
  {
   "cell_type": "markdown",
   "metadata": {},
   "source": [
    "### Liste Oluşturma"
   ]
  },
  {
   "cell_type": "markdown",
   "metadata": {},
   "source": [
    "List in Türkçe karşılığının Liste olması oldukça açıktır.  \n",
    "Konsept olarak kelime anlamına benzemesi listlerin mantığını anlamakta kolaylık sağlamasına rağmen listlerin birsürü ince detayı olması başlangıç seviyesindeki insanları biraz korkutabilir.  \n",
    "  \n",
    "Bugün beraber listelerin en basit yönlerine bakacağız ve ne kadar kullanışlı olduklarını göreceğiz.  \n",
    "Hatırlarsanız değişkenler bölümünde veri türlerini öğrenmiştik. En basit 3 veri türünün Numara, boolean, ve String olduğunu ve diğer veri türlerinin de bu 3 veri türünü baz alarak oluşmasından bahsetmiştik.  \n",
    "Listeler bu fikri görüntüleyen en güzel örneklerden biridir, çünkü listelere bu 3 veri türündeki değerlerden istediğimiz kadar koyabiliriz."
   ]
  },
  {
   "cell_type": "code",
   "execution_count": 2,
   "metadata": {},
   "outputs": [
    {
     "name": "stdout",
     "output_type": "stream",
     "text": [
      "[10, 25, 100]\n"
     ]
    }
   ],
   "source": [
    "listem = [10, 25, 100]\n",
    "print(listem)"
   ]
  },
  {
   "cell_type": "markdown",
   "metadata": {},
   "source": [
    "Ayni zamanda birden fazla veri türünü de oluşturduğum bir listeye ekleyebilirim."
   ]
  },
  {
   "cell_type": "code",
   "execution_count": 5,
   "metadata": {},
   "outputs": [
    {
     "name": "stdout",
     "output_type": "stream",
     "text": [
      "['selam dostum', 100, True, 12]\n"
     ]
    }
   ],
   "source": [
    "listem = [\"selam dostum\",100,True,12]\n",
    "print(listem)"
   ]
  },
  {
   "cell_type": "markdown",
   "metadata": {},
   "source": [
    "Aslında bakarsak yaptığımız şeyin değişkenler bölümünden falza bir farkı yok.  \n",
    "Bir değişken oluşturuğ içine bir değer koyuyoruz. Farklı olan şey içine koyduğumuz değer öğrendiğimiz 3 basit veri türünden biri olmak yerine liste veri türünde bir değeri değişkenimize eşitlemekteyiz."
   ]
  },
  {
   "cell_type": "code",
   "execution_count": 7,
   "metadata": {},
   "outputs": [
    {
     "name": "stdout",
     "output_type": "stream",
     "text": [
      "<class 'list'>\n"
     ]
    }
   ],
   "source": [
    "listem=[1,2,3]\n",
    "print(type(listem))"
   ]
  },
  {
   "cell_type": "markdown",
   "metadata": {},
   "source": [
    "Gördüğümüz gibi değişkenimizinn veri türü list dir."
   ]
  },
  {
   "cell_type": "markdown",
   "metadata": {},
   "source": [
    "### İndeksleme"
   ]
  },
  {
   "cell_type": "markdown",
   "metadata": {},
   "source": [
    "Listeler birden çok değeri gruplaştırmak için iyidir, fakat o değerlere teker teker erişebilme imkanımız da olmalıdır.  \n",
    "İndeksleme bir listenin tek bir değerine ulaşmaya denir. Bu değerlere ulaşırken listenin içindeki sıralaması önemlidir.  "
   ]
  },
  {
   "cell_type": "code",
   "execution_count": 12,
   "metadata": {},
   "outputs": [],
   "source": [
    "# Listenin içindeki değerleri 1 değil, 0 dan başlayarak sıralıyoruz.\n",
    "\n",
    "#        0         1      2      3\n",
    "L = [\"Merhaba\",\"Dostum\", 12   ,True]"
   ]
  },
  {
   "cell_type": "markdown",
   "metadata": {},
   "source": [
    "Listenin içindeki spesifik bir değere ulaşmak için listenin adını yazıp yanına köseli parantezin içine sıra numarasını yazabiliriz."
   ]
  },
  {
   "cell_type": "code",
   "execution_count": 13,
   "metadata": {},
   "outputs": [
    {
     "name": "stdout",
     "output_type": "stream",
     "text": [
      "Merhaba\n",
      "12\n"
     ]
    }
   ],
   "source": [
    "print(L[0])\n",
    "print(L[2])"
   ]
  },
  {
   "cell_type": "markdown",
   "metadata": {},
   "source": [
    "### Değer Ekleme"
   ]
  },
  {
   "cell_type": "markdown",
   "metadata": {},
   "source": [
    "Şimdiye kadar oluşturduğumuz listelerin içindeki değerleri listeyi yaratırken belirledik.  \n",
    "Ama aynı zamanda listeyi oluşturduktan sonra da yeni değerler eklemek mümkündür. Bunu eklemek anlamına gelen **append** anahtar kelimesini kullanarak yapabiliriz."
   ]
  },
  {
   "cell_type": "code",
   "execution_count": 16,
   "metadata": {},
   "outputs": [
    {
     "name": "stdout",
     "output_type": "stream",
     "text": [
      "['Listeye', 'Eklendim!']\n"
     ]
    }
   ],
   "source": [
    "# Boş bir list oluşturuyorum\n",
    "L = []\n",
    "\n",
    "L.append(\"Listeye\")\n",
    "L.append(\"Eklendim!\")\n",
    "\n",
    "print(L)"
   ]
  },
  {
   "cell_type": "markdown",
   "metadata": {},
   "source": [
    "\".\" kullanımıdan biraz bahsetmek istiyorum. Listeden sonraki \".\" ne anlama geliyor?  \n",
    "veri isminden sonraki nokta, o verinin fonksiyonlarını, yani özelliklerini kullanmamızı sağlar.  \n",
    "Fonksiyonların teknik detaylarını ileriki bir bölümde göreceğiz, fakat şimdilik sadece o veri türünün çağırabildiğiniz özellikleri olarak düşünebilirsiniz. Bir listeyle yapabileceğimiz şeyleri düşünürseniz listeye yeni bir değer eklemek yapabilmemiz gereken bir özelliktir. Bu özelliğimize de .append kullanarak erişebiliriz."
   ]
  },
  {
   "cell_type": "markdown",
   "metadata": {},
   "source": [
    "### Uzantı"
   ]
  },
  {
   "cell_type": "markdown",
   "metadata": {},
   "source": [
    "Programımızın yapmasını istediğimiz şeye bağlı olarak bir listenin içinde kaç tane değer olduğunu bilmek isteyebiliriz. Bunu Length kelimesinin kısaltılmışı olan len anahtar kelimesiyle yapabiliriz."
   ]
  },
  {
   "cell_type": "code",
   "execution_count": 17,
   "metadata": {},
   "outputs": [
    {
     "name": "stdout",
     "output_type": "stream",
     "text": [
      "3\n"
     ]
    }
   ],
   "source": [
    "L = [1,2,3]\n",
    "print(len(L))"
   ]
  },
  {
   "cell_type": "markdown",
   "metadata": {},
   "source": [
    "len() de tıpkı print gibi bir fonksiyondur (daha detaylı anlamını öğreneceğiz) fakat print den farklı olarak bize geri verdiği bir değer vardır. O değer de içine koyduğumuz değişkenin bir liste olması durumunda listenin içinde kaç tane değer olduğunu belirten numaradır."
   ]
  },
  {
   "cell_type": "code",
   "execution_count": 20,
   "metadata": {},
   "outputs": [
    {
     "name": "stdout",
     "output_type": "stream",
     "text": [
      "1\n"
     ]
    }
   ],
   "source": [
    "L = []\n",
    "L.append(\"Merhaba\")\n",
    "# İstersem değer sayısını bir değişkene de eşitleyebilirim\n",
    "sayi=len(L)\n",
    "print(sayi)"
   ]
  },
  {
   "cell_type": "markdown",
   "metadata": {},
   "source": [
    "### Listeleri Looplamak"
   ]
  },
  {
   "cell_type": "markdown",
   "metadata": {},
   "source": [
    "Listeleri \"Looplamak\" ne anlama gelir?  \n",
    "Listeleri Looplamak listenin her bir değeriyle bir takim işlemler yapmak demektir.  \n",
    "For loop bölümünü hatırlarsak iki sayı arasındaki değerlerin her birini bir değişkene sırayla eşitleyip bu değerleri uygun gördüğümüz gibi kullanabiliyorduk.  \n",
    "Bu sefer o sayıları listenin içindeki her değere teker teker erişmek için kullanacağız."
   ]
  },
  {
   "cell_type": "code",
   "execution_count": 23,
   "metadata": {},
   "outputs": [
    {
     "name": "stdout",
     "output_type": "stream",
     "text": [
      "5\n"
     ]
    }
   ],
   "source": [
    "# Yeni bir liste oluşturuyorum\n",
    "L=[\"Bu\",\"Benim\",\"Listem\",10,True]\n",
    "\n",
    "uzunluk=len(L)\n",
    "# Listenin içinde 5 tane değer olduğu için uzunluk 5 e eşittir\n",
    "print(uzunluk)"
   ]
  },
  {
   "cell_type": "markdown",
   "metadata": {},
   "source": [
    "Sonra bu uzunluğu, yani değer sayısını önceden öğrendiğimiz indeksleme metoduyla beraber kullanarak listenin bütün değerlerine teker teker erişebilirim."
   ]
  },
  {
   "cell_type": "code",
   "execution_count": 24,
   "metadata": {},
   "outputs": [
    {
     "name": "stdout",
     "output_type": "stream",
     "text": [
      "Bu\n",
      "Benim\n",
      "Listem\n",
      "10\n",
      "True\n"
     ]
    }
   ],
   "source": [
    "for i in range(uzunluk):\n",
    "    print(L[i])"
   ]
  },
  {
   "cell_type": "markdown",
   "metadata": {},
   "source": [
    "Bu ne için önemlidir?  \n",
    "Bu bir listenin elementleriyle aynı şeyi tekrar yapmak istediğimiz zaman önemlidir.  "
   ]
  },
  {
   "cell_type": "markdown",
   "metadata": {},
   "source": [
    "### Kısa Yol"
   ]
  },
  {
   "cell_type": "markdown",
   "metadata": {},
   "source": [
    "Pythonda listeleree özel çok değerli bir kısayol vardır.  \n",
    "Listeleri looplarken değerlerin indeksini kullanıp teker teker değerlere ulaşmak yerine doğrudan for un içinde listemizi looplamak mümkündür."
   ]
  },
  {
   "cell_type": "code",
   "execution_count": 31,
   "metadata": {},
   "outputs": [
    {
     "name": "stdout",
     "output_type": "stream",
     "text": [
      "Bu\n",
      "Benim\n",
      "Listem\n",
      "10\n",
      "True\n"
     ]
    }
   ],
   "source": [
    "L=[\"Bu\",\"Benim\",\"Listem\",10,True]\n",
    "\n",
    "for i in L:\n",
    "    print(i)"
   ]
  },
  {
   "cell_type": "markdown",
   "metadata": {},
   "source": [
    "Bu sefer i diye yaratılan değişken bir sayı aralığının içindeki sayı değil, bir listenin içindeki değerleri teker teker baz alarak loop un içindeki kodu çalıştırır."
   ]
  },
  {
   "cell_type": "markdown",
   "metadata": {},
   "source": [
    "#### Örnek  \n",
    "Aşağıda alışveriş ihtiyaçlarımı tutan bir liste var"
   ]
  },
  {
   "cell_type": "code",
   "execution_count": 25,
   "metadata": {},
   "outputs": [],
   "source": [
    "alisveris = [\"Karpuz\",\"Muz\",\"Deterjan\",\"Pırasa\"]"
   ]
  },
  {
   "cell_type": "markdown",
   "metadata": {},
   "source": [
    "Ben aldığım her şeyi aldığıma dair bir yazı yazmak istiyorum ekrana.  \n",
    "Bunu en basit şekilde şimdiye kadar öğrendiklerimizle nasıl yapabiliriz?"
   ]
  },
  {
   "cell_type": "code",
   "execution_count": 29,
   "metadata": {},
   "outputs": [
    {
     "name": "stdout",
     "output_type": "stream",
     "text": [
      "Karpuz aldım\n",
      "Muz aldım\n",
      "Deterjan aldım\n",
      "Pırasa aldım\n"
     ]
    }
   ],
   "source": [
    "print(alisveris[0] + \" aldım\")\n",
    "print(alisveris[1] + \" aldım\")\n",
    "print(alisveris[2] + \" aldım\")\n",
    "print(alisveris[3] + \" aldım\")"
   ]
  },
  {
   "cell_type": "markdown",
   "metadata": {},
   "source": [
    "Gördüğümüz gibi teker teker değerlere erişerek print edebiliriz.  \n",
    "Fakat bu çok yorucu ve tekrar kullanışsız bir yöntem olur.  \n",
    "Listeye sonradan bir değer daha eklersek print i de eklemeyi hatırlamamız gerekir.  \n",
    "Aynı zamanda görüntü olarak da epey bir kirlilik oluşturur.  \n",
    "Peki listeyı looplayarak nasıl daha iyi bir sonuç elde ederiz?  "
   ]
  },
  {
   "cell_type": "code",
   "execution_count": 32,
   "metadata": {},
   "outputs": [
    {
     "name": "stdout",
     "output_type": "stream",
     "text": [
      "Karpuz aldım\n",
      "Muz aldım\n",
      "Deterjan aldım\n",
      "Pırasa aldım\n"
     ]
    }
   ],
   "source": [
    "for i in alisveris:\n",
    "    print(i+\" aldım\")"
   ]
  },
  {
   "cell_type": "markdown",
   "metadata": {},
   "source": [
    "Gördüğünüz gibi çok daha az kod ile aynı sonucu elde edebiliyoruz.  \n",
    "Bu yöntemin güzelliği elde etmek istediğim işlevsellik yazdığım kod miktarına bağlı değildir.  \n",
    "Eğer listemin içinde 1000 tane değer olsaydı aynı şekilde çalışırdı."
   ]
  }
 ],
 "metadata": {
  "kernelspec": {
   "display_name": "Python 3",
   "language": "python",
   "name": "python3"
  },
  "language_info": {
   "codemirror_mode": {
    "name": "ipython",
    "version": 3
   },
   "file_extension": ".py",
   "mimetype": "text/x-python",
   "name": "python",
   "nbconvert_exporter": "python",
   "pygments_lexer": "ipython3",
   "version": "3.7.4"
  }
 },
 "nbformat": 4,
 "nbformat_minor": 2
}
