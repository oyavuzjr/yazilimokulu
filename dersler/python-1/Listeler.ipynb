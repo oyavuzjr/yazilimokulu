{
 "cells": [
  {
   "cell_type": "markdown",
   "metadata": {},
   "source": [
    "### Liste Oluşturma"
   ]
  },
  {
   "cell_type": "markdown",
   "metadata": {},
   "source": [
    "List in Türkçe karşılığının Liste olması oldukça açıktır.  \n",
    "Konsept olarak kelime anlamına benzemesi listlerin mantığını anlamakta kolaylık sağlamasına rağmen listlerin birsürü ince detayı olması başlangıç seviyesindeki insanları biraz korkutabilir.  \n",
    "  \n",
    "Bugün beraber listelerin en basit yönlerine bakacağız ve ne kadar kullanışlı olduklarını göreceğiz.  \n",
    "Hatırlarsanız değişkenler bölümünde veri türlerini öğrenmiştik. En basit 3 veri türünün Numara, boolean, ve String olduğunu ve diğer veri türlerinin de bu 3 veri türünü baz alarak oluşmasından bahsetmiştik.  \n",
    "Listeler bu fikri görüntüleyen en güzel örneklerden biridir, çünkü listelere bu 3 veri türündeki değerlerden istediğimiz kadar koyabiliriz."
   ]
  },
  {
   "cell_type": "code",
   "execution_count": 2,
   "metadata": {},
   "outputs": [
    {
     "name": "stdout",
     "output_type": "stream",
     "text": [
      "[10, 25, 100]\n"
     ]
    }
   ],
   "source": [
    "listem = [10, 25, 100]\n",
    "print(listem)"
   ]
  },
  {
   "cell_type": "markdown",
   "metadata": {},
   "source": [
    "Ayni zamanda birden fazla veri türünü de oluşturduğum bir listeye ekleyebilirim."
   ]
  },
  {
   "cell_type": "code",
   "execution_count": 5,
   "metadata": {},
   "outputs": [
    {
     "name": "stdout",
     "output_type": "stream",
     "text": [
      "['selam dostum', 100, True, 12]\n"
     ]
    }
   ],
   "source": [
    "listem = [\"selam dostum\",100,True,12]\n",
    "print(listem)"
   ]
  },
  {
   "cell_type": "markdown",
   "metadata": {},
   "source": [
    "Aslında bakarsak yaptığımız şeyin değişkenler bölümünden falza bir farkı yok.  \n",
    "Bir değişken oluşturuğ içine bir değer koyuyoruz. Farklı olan şey içine koyduğumuz değer öğrendiğimiz 3 basit veri türünden biri olmak yerine liste veri türünde bir değeri değişkenimize eşitlemekteyiz."
   ]
  },
  {
   "cell_type": "code",
   "execution_count": 7,
   "metadata": {},
   "outputs": [
    {
     "name": "stdout",
     "output_type": "stream",
     "text": [
      "<class 'list'>\n"
     ]
    }
   ],
   "source": [
    "listem=[1,2,3]\n",
    "print(type(listem))"
   ]
  },
  {
   "cell_type": "markdown",
   "metadata": {},
   "source": [
    "Gördüğümüz gibi değişkenimizinn veri türü list dir."
   ]
  },
  {
   "cell_type": "markdown",
   "metadata": {},
   "source": [
    "### İndeksleme"
   ]
  },
  {
   "cell_type": "markdown",
   "metadata": {},
   "source": [
    "Listeler birden çok değeri gruplaştırmak için iyidir, fakat o değerlere teker teker erişebilme imkanımız da olmalıdır.  \n",
    "İndeksleme bir listenin tek bir değerine ulaşmaya denir. Bu değerlere ulaşırken listenin içindeki sıralaması önemlidir.  "
   ]
  },
  {
   "cell_type": "code",
   "execution_count": 12,
   "metadata": {},
   "outputs": [],
   "source": [
    "# Listenin içindeki değerleri 1 değil, 0 dan başlayarak sıralıyoruz.\n",
    "\n",
    "#        0         1      2      3\n",
    "L = [\"Merhaba\",\"Dostum\", 12   ,True]"
   ]
  },
  {
   "cell_type": "markdown",
   "metadata": {},
   "source": [
    "Listenin içindeki spesifik bir değere ulaşmak için listenin adını yazıp yanına köseli parantezin içine sıra numarasını yazabiliriz."
   ]
  },
  {
   "cell_type": "code",
   "execution_count": 13,
   "metadata": {},
   "outputs": [
    {
     "name": "stdout",
     "output_type": "stream",
     "text": [
      "Merhaba\n",
      "12\n"
     ]
    }
   ],
   "source": [
    "print(L[0])\n",
    "print(L[2])"
   ]
  },
  {
   "cell_type": "markdown",
   "metadata": {},
   "source": [
    "### Değer Ekleme"
   ]
  },
  {
   "cell_type": "markdown",
   "metadata": {},
   "source": [
    "Şimdiye kadar oluşturduğumuz listelerin içindeki değerleri listeyi yaratırken belirledik.  \n",
    "Ama aynı zamanda listeyi oluşturduktan sonra da yeni değerler eklemek mümkündür. Bunu eklemek anlamına gelen **append** anahtar kelimesini kullanarak yapabiliriz."
   ]
  },
  {
   "cell_type": "code",
   "execution_count": 15,
   "metadata": {},
   "outputs": [
    {
     "name": "stdout",
     "output_type": "stream",
     "text": [
      "['Listeye', 'Eklendim!']\n"
     ]
    }
   ],
   "source": [
    "# \n",
    "L = []\n",
    "\n",
    "L.append(\"Listeye\")\n",
    "L.append(\"Eklendim!\")\n",
    "\n",
    "print(L)"
   ]
  },
  {
   "cell_type": "markdown",
   "metadata": {},
   "source": [
    "\".\" kullanımıdan biraz bahsetmek istiyorum. Listeden sonraki \".\" ne anlama geliyor?  \n",
    "veri isminden sonraki nokta, o verinin fonksiyonlarını, yani özelliklerini kullanmamızı sağlar.  \n",
    "Fonksiyonların teknik detaylarını ileriki bir bölümde göreceğiz, fakat şimdilik sadece o veri türünün çağırabildiğiniz özellikleri olarak düşünebilirsiniz. Bir listeyle yapabileceğimiz şeyleri düşünürseniz listeye yeni bir değer eklemek yapabilmemiz gereken bir özelliktir. Bu özelliğimize de .append kullanarak erişebiliriz."
   ]
  },
  {
   "cell_type": "code",
   "execution_count": null,
   "metadata": {},
   "outputs": [],
   "source": []
  }
 ],
 "metadata": {
  "kernelspec": {
   "display_name": "Python 3",
   "language": "python",
   "name": "python3"
  },
  "language_info": {
   "codemirror_mode": {
    "name": "ipython",
    "version": 3
   },
   "file_extension": ".py",
   "mimetype": "text/x-python",
   "name": "python",
   "nbconvert_exporter": "python",
   "pygments_lexer": "ipython3",
   "version": "3.7.4"
  }
 },
 "nbformat": 4,
 "nbformat_minor": 2
}
