{
 "cells": [
  {
   "cell_type": "markdown",
   "metadata": {},
   "source": [
    "Dictionary kelimesinin Türkçe anlamı \"Sözlük\" dür. Bilgisayar programlama dillerinde dictionary olarak adlandırılan veri türü sözlüklerin kullanış şekline benzer bir şekilde kullanıldığından ismini almıştır.  \n",
    "  \n",
    "Tıpkı bir sözlükte istediğimiz kelimeyi arayıp, o kelimenin anlam karşılığını bulabileceğimiz gibi, programlama dillerinde olan sözlüklerde de istediğimiz kelimenin karşılığı olan değerleri bulabiliriz. Bu prensibe \"key-value pair\" yani, anahtar kelime - değer eşlemesi denir. "
   ]
  },
  {
   "cell_type": "markdown",
   "metadata": {},
   "source": [
    "Değerler kısmına hatırladığımız zaman bizim belirlediğimiz bir değişken ismine istediğimiz değerleri eşitleyebiliyorduk."
   ]
  },
  {
   "cell_type": "code",
   "execution_count": 1,
   "metadata": {},
   "outputs": [],
   "source": [
    "degiskenim=\"Merhaba\""
   ]
  },
  {
   "cell_type": "markdown",
   "metadata": {},
   "source": [
    "Bu şu an bahsettiğimiz şeye konspet olarak çok benziyor.  \n",
    "O zaman Dictionary lerin farkı nedir?"
   ]
  },
  {
   "cell_type": "markdown",
   "metadata": {},
   "source": [
    "Diyelim ki bir dikdörtgenin bilgilerini içeren bir program yazmak istiyoruz.  \n",
    "Dikdörtgenin iki farklı kenar uzunluğu vardır. Bunları x ve y olarak adlandırıyoruz."
   ]
  },
  {
   "cell_type": "code",
   "execution_count": null,
   "metadata": {},
   "outputs": [],
   "source": []
  },
  {
   "cell_type": "markdown",
   "metadata": {},
   "source": [
    "Bunu değerler kullanarak yaparsak işimiz oldukça basittir.  \n",
    "x ve y adında iki değişken yaratıp dikdörtgenimin kenarlarına eşitlerim."
   ]
  },
  {
   "cell_type": "code",
   "execution_count": 2,
   "metadata": {},
   "outputs": [],
   "source": [
    "# Dikdörtgenimin ilk kenarı.\n",
    "x=10\n",
    "# Dikdörtgenimin ikinci kenarı.\n",
    "y=15"
   ]
  },
  {
   "cell_type": "markdown",
   "metadata": {},
   "source": [
    "Ama birden fazla dikdörtgen kullandığımız zaman o zaman kodumuz nasıl gözükecek?"
   ]
  },
  {
   "cell_type": "code",
   "execution_count": 3,
   "metadata": {},
   "outputs": [],
   "source": [
    "# 1. Dikdörtgenim\n",
    "x=10\n",
    "y=15\n",
    "\n",
    "# 2. Dikdörtgenim\n",
    "x2=12\n",
    "y2=6\n",
    "\n",
    "# 3. Dikdörtgenim\n",
    "x3=28\n",
    "y3=12"
   ]
  },
  {
   "cell_type": "markdown",
   "metadata": {},
   "source": [
    "Sonraki değişkenlere ne isim vereceğiz? Sonlarına sayı koyup o şekilde takip etmek mantıklı mı? Zaman geçtikçe ve daha fazla dikdörtgenler eklediğimizde bu değişkenlerimizi takip etmemiz zorlaşabilir mi?"
   ]
  },
  {
   "cell_type": "markdown",
   "metadata": {},
   "source": [
    "Dictionarylerin çözmeye çalıştığı sorun budur. Birbirleriyle bağlantılı değerleri aynı yerde tutabildiğimiz bir veri türüdür.   \n",
    "Bir örnekle başlayalım."
   ]
  },
  {
   "cell_type": "markdown",
   "metadata": {},
   "source": [
    "### Dictionary"
   ]
  },
  {
   "cell_type": "code",
   "execution_count": 4,
   "metadata": {},
   "outputs": [],
   "source": [
    "dikdortgen = {\n",
    "    \"x\":10,\n",
    "    \"y\":12\n",
    "}"
   ]
  },
  {
   "cell_type": "markdown",
   "metadata": {},
   "source": [
    "Burada gördüğümüz değişkene eşitlenen değer bir dictionary dir. Sözlük benzetmemizi hatırlayacak olursak, her anahtar kelimenin benzetmemizde sözlükteki kelimenin anlamı olan bir eş değeri vardır. Burda da colon (\":\") un solunda olan değerler sözlüğümüzün anahtar kelimeleridir. Ve sözlükte bu kelimelerin anlamına baktığımız zaman colon (\":\") un sağındaki değeri "
   ]
  },
  {
   "cell_type": "code",
   "execution_count": null,
   "metadata": {},
   "outputs": [],
   "source": []
  }
 ],
 "metadata": {
  "kernelspec": {
   "display_name": "Python 3",
   "language": "python",
   "name": "python3"
  },
  "language_info": {
   "codemirror_mode": {
    "name": "ipython",
    "version": 3
   },
   "file_extension": ".py",
   "mimetype": "text/x-python",
   "name": "python",
   "nbconvert_exporter": "python",
   "pygments_lexer": "ipython3",
   "version": "3.7.4"
  }
 },
 "nbformat": 4,
 "nbformat_minor": 2
}
