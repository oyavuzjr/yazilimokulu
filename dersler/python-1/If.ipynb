{
 "cells": [
  {
   "cell_type": "markdown",
   "metadata": {},
   "source": [
    "If ingilizcede eğer demektir.  \n",
    "Mantığı oldukça basittir. Eğer bir takım şartlar doğru ise, if in içinde bulunan kodu çalıştırmak istiyoruz."
   ]
  },
  {
   "cell_type": "code",
   "execution_count": 5,
   "metadata": {},
   "outputs": [
    {
     "name": "stdout",
     "output_type": "stream",
     "text": [
      "Bu her zaman print edicek\n"
     ]
    }
   ],
   "source": [
    "if(True):\n",
    "    #if in icindeki kod\n",
    "    print(\"Bu her zaman print edicek\")\n",
    "# if in dışında"
   ]
  },
  {
   "cell_type": "code",
   "execution_count": 6,
   "metadata": {},
   "outputs": [],
   "source": [
    "if(False):\n",
    "    #if in icindeki kod\n",
    "    print(\"Bu hiç bir zaman print etmicek\")"
   ]
  },
  {
   "cell_type": "markdown",
   "metadata": {},
   "source": [
    "Peki neden ilk örnekteki if in içindeki kod çalıştırıldı ve 2. örnekteki çalıştırılmadı?  \n",
    "Önceden söylediğimiz gibi if lerin içindeki kodun çalışması için belli şartlar belirlememiz lazım, ve bu şartlar da en sonunda bir **boolean** değere dönüşmesi lazımdır. Bu parantezlerin arasına koyulan boolean değeri True ise if in içindeki kod çalıştırılır, false ise çalıştırılmaz."
   ]
  },
  {
   "cell_type": "markdown",
   "metadata": {},
   "source": [
    "Tabi if in içine True veya false değerlerini koymanın pek bir yararı yoktur, çünkü her zaman sonuç aynı olacaktır. If in yararlı olmaya başladığı zaman değişkenlerle karşılaştırma operatörlerini kullandığımız zamandır."
   ]
  },
  {
   "cell_type": "code",
   "execution_count": 4,
   "metadata": {},
   "outputs": [
    {
     "name": "stdout",
     "output_type": "stream",
     "text": [
      "Bu film 18 yaş üstü içindir, özür dileriz.\n"
     ]
    }
   ],
   "source": [
    "yas = 16\n",
    "\n",
    "if(yas<18):\n",
    "    print(\"Bu film 18 yaş üstü içindir, özür dileriz.\")"
   ]
  },
  {
   "cell_type": "markdown",
   "metadata": {},
   "source": [
    "Örnekte gördüğümüz gibi değişkenlerle karşılaştırma operatörünü kullandığımız zaman if in daha yararlı bir kullanımı olmaktadır. Operatörler bölümünde gördüğümüz gibi, büyüktür **(>)**, küçüktür **(<)**, ve eşittir **(==)** gibi karşılaştırma operatörlerinin sonucunda çıkan değer boolean dır. Bundan dolayı if in şartlarında bu operatörlerin çok sıkça görülür."
   ]
  },
  {
   "cell_type": "markdown",
   "metadata": {},
   "source": [
    "### Else"
   ]
  },
  {
   "cell_type": "markdown",
   "metadata": {},
   "source": [
    "Peki istediğimiz şartlar True olursa bir takım kod çalıştırabiliyorsak o şartlar yanlış olduğu zaman başka bir takım kod nasıl çalıştırırız? Else \"başka\" anlamına gelir. Eğer if in içindeki şartların sonuç olarak verdiği boolean değer False ise, if yerine else in içindeki kod çalıştırılacaktır."
   ]
  },
  {
   "cell_type": "code",
   "execution_count": 9,
   "metadata": {},
   "outputs": [
    {
     "name": "stdout",
     "output_type": "stream",
     "text": [
      "Yaşınız bu filme yetmektedir.\n"
     ]
    }
   ],
   "source": [
    "yas=19\n",
    "\n",
    "if(yas<18):\n",
    "    print(\"Bu film 18 yaş üstü içindir, özür dileriz.\")\n",
    "else:\n",
    "    print(\"Yaşınız bu filme yetmektedir.\")"
   ]
  },
  {
   "cell_type": "markdown",
   "metadata": {},
   "source": [
    "### Else if"
   ]
  },
  {
   "cell_type": "markdown",
   "metadata": {},
   "source": [
    "Else if tam olarak \"başka eğer\" diye dilimize çevrilir. İsminden de tahmin edebileceğiniz gibi başka şartları da kontrol etmemizi sağlar. Eğer ilk koyduğumuz if in içindeki şart True değilse, else a gelmeden önce başka şartları da kontrol edebilmek için kullanılır."
   ]
  },
  {
   "cell_type": "markdown",
   "metadata": {},
   "source": [
    "Else if in kritik olduğu bir örneğe bakalım.  "
   ]
  },
  {
   "cell_type": "code",
   "execution_count": 12,
   "metadata": {},
   "outputs": [
    {
     "name": "stdout",
     "output_type": "stream",
     "text": [
      "Veli Ali den büyüktür.\n"
     ]
    }
   ],
   "source": [
    "# Kişilerin yaşlarını simgeleyen iki tane değişken yarattım.\n",
    "\n",
    "# Veli nin Ali den büyük olduğu örnek\n",
    "Ali =18\n",
    "Veli=20\n",
    "\n",
    "if(Ali>Veli):\n",
    "    print(\"Ali Veli den büyüktür.\")\n",
    "else:\n",
    "    print(\"Veli Ali den büyüktür.\")\n"
   ]
  },
  {
   "cell_type": "code",
   "execution_count": 14,
   "metadata": {},
   "outputs": [
    {
     "name": "stdout",
     "output_type": "stream",
     "text": [
      "Ali Veli den büyüktür.\n"
     ]
    }
   ],
   "source": [
    "# Ali nin Veli den büyük olduğu örnek\n",
    "Ali =21\n",
    "Veli=18\n",
    "\n",
    "if(Ali>Veli):\n",
    "    print(\"Ali Veli den büyüktür.\")\n",
    "else:\n",
    "    print(\"Veli Ali den büyüktür.\")"
   ]
  },
  {
   "cell_type": "markdown",
   "metadata": {},
   "source": [
    "Bu değişken değerleriyle kullanıldığı zaman bir problem olmadığını görüyoruz. Fakat ön görmediğimiz bir karşılaştırma durumuna denk geldiğimiz zaman else if e niye ihtiyacımız olduğunu göreceksiniz."
   ]
  },
  {
   "cell_type": "code",
   "execution_count": 15,
   "metadata": {},
   "outputs": [
    {
     "name": "stdout",
     "output_type": "stream",
     "text": [
      "Veli Ali den büyüktür.\n"
     ]
    }
   ],
   "source": [
    "# Ali nin Veli ile aynı yaşta olduğu örnek\n",
    "Ali =18\n",
    "Veli=18\n",
    "\n",
    "if(Ali>Veli):\n",
    "    print(\"Ali Veli den büyüktür.\")\n",
    "else:\n",
    "    print(\"Veli Ali den büyüktür.\")"
   ]
  },
  {
   "cell_type": "markdown",
   "metadata": {},
   "source": [
    "Gördüğünüz gibi Ali ve Veli aynı yaşta olmasına rağmen Veli Ali den büyüktür print ediliyor.  \n",
    "Bunun nedeni if in içindeki şart, yani Ali nin Veli den büyük olması Doğru olmadığı için programın else ı çalıştırmasıdır.  \n",
    "Fakat biz bunun doğru olmadığını biliyoruz, demek ki programımızda ön görmediğimiz bir durum var, o da iki sayının birbirine eşit olması. Bunu da else dan önce ayriyetten kontrol edebiliriz."
   ]
  },
  {
   "cell_type": "code",
   "execution_count": 16,
   "metadata": {},
   "outputs": [
    {
     "name": "stdout",
     "output_type": "stream",
     "text": [
      "Ali ile Veli aynı yaştadır.\n"
     ]
    }
   ],
   "source": [
    "# Ali nin Veli ile aynı yaşta olduğu örnek\n",
    "Ali =18\n",
    "Veli=18\n",
    "\n",
    "if(Ali>Veli):\n",
    "    print(\"Ali Veli den büyüktür.\")\n",
    "# Else if elif kelimesiyle kullanılır.\n",
    "elif(Ali==Veli):\n",
    "    print(\"Ali ile Veli aynı yaştadır.\")\n",
    "else:\n",
    "    print(\"Veli Ali den büyüktür.\")"
   ]
  },
  {
   "cell_type": "markdown",
   "metadata": {},
   "source": [
    "Bu sefer doğru sonucu almaktayız. Fark ettiyseniz else ın içindeki kod çalıştırılmadı. Bunun nedeni else ın sadece if ve diğer bütün karlılaştırmalardaki şartların False olması durumunda çalıştırılmasıdır. Bu örnekte sayıların birbirine eşit olma şartı Doğru oldugundan elif şartı doğru çıkmıştır ve else a gerek kalmamıştır."
   ]
  }
 ],
 "metadata": {
  "kernelspec": {
   "display_name": "Python 3",
   "language": "python",
   "name": "python3"
  },
  "language_info": {
   "codemirror_mode": {
    "name": "ipython",
    "version": 3
   },
   "file_extension": ".py",
   "mimetype": "text/x-python",
   "name": "python",
   "nbconvert_exporter": "python",
   "pygments_lexer": "ipython3",
   "version": "3.7.4"
  }
 },
 "nbformat": 4,
 "nbformat_minor": 2
}
