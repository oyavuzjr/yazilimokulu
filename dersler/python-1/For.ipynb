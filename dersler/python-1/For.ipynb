{
 "cells": [
  {
   "cell_type": "markdown",
   "metadata": {},
   "source": [
    "Geçen bölümde fark ettiyseniz While loopları çok spesifik bir örnek için kullanmıştık; bir sayıyı belli bir aralıkta görüntüleyebilmek için."
   ]
  },
  {
   "cell_type": "code",
   "execution_count": 5,
   "metadata": {},
   "outputs": [
    {
     "name": "stdout",
     "output_type": "stream",
     "text": [
      "1\n",
      "2\n",
      "3\n",
      "4\n"
     ]
    }
   ],
   "source": [
    "sayi=1\n",
    "\n",
    "# Sayı 5 den küçük olduğu sürece sayıyı print edip değerini arttır.\n",
    "while(sayi<5):\n",
    "    print(sayi)\n",
    "    sayi+=1"
   ]
  },
  {
   "cell_type": "markdown",
   "metadata": {},
   "source": [
    "Gördüğümüz gibi sayı değişkenimiz ilk başta belirlediğimiz 1 sayısından 5 sayısına kadar bütün değerleri teker teker almakta.  \n",
    "For Loop un da yaptığı şey esasta bu dur."
   ]
  },
  {
   "cell_type": "markdown",
   "metadata": {},
   "source": [
    "While dan farklı olarak for loop sadece bu işlev için yaratılmıştır, ama for loop dan daha belirgin bir şekilde bu görevi yapar.  \n",
    "Range in anlamı sayı aralığıdır.  \n",
    "For loop un mantığı belirldediğim bir değişkenin (bu örnekte i) istediğim sayılık aralığındaki bütün değerlere teker teker eşitlenip loop un içindeki kod un çalıştırılmasıdır."
   ]
  },
  {
   "cell_type": "code",
   "execution_count": 7,
   "metadata": {},
   "outputs": [
    {
     "name": "stdout",
     "output_type": "stream",
     "text": [
      "0\n",
      "1\n",
      "2\n",
      "3\n",
      "4\n"
     ]
    }
   ],
   "source": [
    "for i in range(0,5):\n",
    "    print(i)"
   ]
  },
  {
   "cell_type": "markdown",
   "metadata": {},
   "source": [
    "Gördüğümüz gibi istediğimiz sayı aralığını çok daha net bir şekilde range kelimesiyle belirleyebiliyoruz.  \n",
    "Aynı zamanda while daki gibi istediğim sayı aralığında olacak olan değişkeni ayriyetten kendim yaratmama ve değerini arttırmama gerek yoktur, for loop un kendisinin yaptığı bir özelliktir.  \n",
    "  \n",
    "Aynı zamanda unutmamak lazım ki range sayılarının durma noktası, yani sağındaki sayı loop u durdurduğumuz değerdir. Yani loop un içindeki kodu en son range in sonundaki değerden bir önceki değerde çalıştırırız."
   ]
  },
  {
   "cell_type": "code",
   "execution_count": 8,
   "metadata": {},
   "outputs": [
    {
     "name": "stdout",
     "output_type": "stream",
     "text": [
      "0\n",
      "1\n",
      "2\n",
      "3\n",
      "4\n"
     ]
    }
   ],
   "source": [
    "# Range e tek değer koyarsam başlangıç değerini 0 olarak sayıcaktır.\n",
    "for i in range(5):\n",
    "    print(i)"
   ]
  },
  {
   "cell_type": "markdown",
   "metadata": {},
   "source": [
    "Aynı zamanda range e tek bir sayı da koyabiliriz.  \n",
    "Bu durumda range başlangıç değeri olarak 0 ı baz alacaktır."
   ]
  },
  {
   "cell_type": "code",
   "execution_count": null,
   "metadata": {},
   "outputs": [],
   "source": []
  }
 ],
 "metadata": {
  "kernelspec": {
   "display_name": "Python 3",
   "language": "python",
   "name": "python3"
  },
  "language_info": {
   "codemirror_mode": {
    "name": "ipython",
    "version": 3
   },
   "file_extension": ".py",
   "mimetype": "text/x-python",
   "name": "python",
   "nbconvert_exporter": "python",
   "pygments_lexer": "ipython3",
   "version": "3.7.4"
  }
 },
 "nbformat": 4,
 "nbformat_minor": 2
}
